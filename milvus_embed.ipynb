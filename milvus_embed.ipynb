{
 "cells": [
  {
   "cell_type": "code",
   "execution_count": 7,
   "id": "5b71661a",
   "metadata": {},
   "outputs": [
    {
     "name": "stdout",
     "output_type": "stream",
     "text": [
      "Defaulting to user installation because normal site-packages is not writeable\n",
      "Requirement already satisfied: DeepFace in /home/hp1/.local/lib/python3.8/site-packages (0.0.74)\n",
      "Requirement already satisfied: retina-face>=0.0.1 in /home/hp1/.local/lib/python3.8/site-packages (from DeepFace) (0.0.10)\n",
      "Requirement already satisfied: Pillow>=5.2.0 in /home/hp1/.local/lib/python3.8/site-packages (from DeepFace) (9.0.0)\n",
      "Requirement already satisfied: numpy>=1.14.0 in /home/hp1/.local/lib/python3.8/site-packages (from DeepFace) (1.18.1)\n",
      "Requirement already satisfied: pandas>=0.23.4 in /home/hp1/.local/lib/python3.8/site-packages (from DeepFace) (1.3.5)\n",
      "Requirement already satisfied: keras>=2.2.0 in /home/hp1/.local/lib/python3.8/site-packages (from DeepFace) (2.7.0)\n",
      "Requirement already satisfied: Flask>=1.1.2 in /home/hp1/.local/lib/python3.8/site-packages (from DeepFace) (2.1.2)\n",
      "Requirement already satisfied: tqdm>=4.30.0 in /home/hp1/.local/lib/python3.8/site-packages (from DeepFace) (4.48.2)\n",
      "Requirement already satisfied: tensorflow>=1.9.0 in /home/hp1/.local/lib/python3.8/site-packages (from DeepFace) (2.7.0)\n",
      "Requirement already satisfied: gdown>=3.10.1 in /home/hp1/.local/lib/python3.8/site-packages (from DeepFace) (4.4.0)\n",
      "Requirement already satisfied: mtcnn>=0.1.0 in /home/hp1/.local/lib/python3.8/site-packages (from DeepFace) (0.1.1)\n",
      "Requirement already satisfied: opencv-python>=3.4.4 in /home/hp1/.local/lib/python3.8/site-packages (from DeepFace) (4.5.1.48)\n",
      "Requirement already satisfied: click>=8.0 in /home/hp1/.local/lib/python3.8/site-packages (from Flask>=1.1.2->DeepFace) (8.1.3)\n",
      "Requirement already satisfied: Werkzeug>=2.0 in /home/hp1/.local/lib/python3.8/site-packages (from Flask>=1.1.2->DeepFace) (2.0.2)\n",
      "Requirement already satisfied: Jinja2>=3.0 in /home/hp1/.local/lib/python3.8/site-packages (from Flask>=1.1.2->DeepFace) (3.0.3)\n",
      "Requirement already satisfied: itsdangerous>=2.0 in /home/hp1/.local/lib/python3.8/site-packages (from Flask>=1.1.2->DeepFace) (2.1.2)\n",
      "Requirement already satisfied: importlib-metadata>=3.6.0 in /home/hp1/.local/lib/python3.8/site-packages (from Flask>=1.1.2->DeepFace) (4.10.0)\n",
      "Requirement already satisfied: filelock in /usr/local/lib/python3.8/dist-packages (from gdown>=3.10.1->DeepFace) (3.0.12)\n",
      "Requirement already satisfied: beautifulsoup4 in /home/hp1/.local/lib/python3.8/site-packages (from gdown>=3.10.1->DeepFace) (4.11.1)\n",
      "Requirement already satisfied: requests[socks] in /usr/lib/python3/dist-packages (from gdown>=3.10.1->DeepFace) (2.22.0)\n",
      "Requirement already satisfied: six in /usr/lib/python3/dist-packages (from gdown>=3.10.1->DeepFace) (1.14.0)\n",
      "Requirement already satisfied: pytz>=2017.3 in /usr/lib/python3/dist-packages (from pandas>=0.23.4->DeepFace) (2019.3)\n",
      "Requirement already satisfied: python-dateutil>=2.7.3 in /usr/lib/python3/dist-packages (from pandas>=0.23.4->DeepFace) (2.7.3)\n",
      "Requirement already satisfied: google-pasta>=0.1.1 in /home/hp1/.local/lib/python3.8/site-packages (from tensorflow>=1.9.0->DeepFace) (0.2.0)\n",
      "Requirement already satisfied: typing-extensions>=3.6.6 in /home/hp1/.local/lib/python3.8/site-packages (from tensorflow>=1.9.0->DeepFace) (3.7.4.3)\n",
      "Requirement already satisfied: grpcio<2.0,>=1.24.3 in /home/hp1/.local/lib/python3.8/site-packages (from tensorflow>=1.9.0->DeepFace) (1.44.0)\n",
      "Requirement already satisfied: tensorflow-io-gcs-filesystem>=0.21.0 in /home/hp1/.local/lib/python3.8/site-packages (from tensorflow>=1.9.0->DeepFace) (0.23.1)\n",
      "Requirement already satisfied: tensorflow-estimator<2.8,~=2.7.0rc0 in /home/hp1/.local/lib/python3.8/site-packages (from tensorflow>=1.9.0->DeepFace) (2.7.0)\n",
      "Requirement already satisfied: flatbuffers<3.0,>=1.12 in /home/hp1/.local/lib/python3.8/site-packages (from tensorflow>=1.9.0->DeepFace) (2.0)\n",
      "Requirement already satisfied: astunparse>=1.6.0 in /home/hp1/.local/lib/python3.8/site-packages (from tensorflow>=1.9.0->DeepFace) (1.6.3)\n",
      "Requirement already satisfied: termcolor>=1.1.0 in /home/hp1/.local/lib/python3.8/site-packages (from tensorflow>=1.9.0->DeepFace) (1.1.0)\n",
      "Requirement already satisfied: opt-einsum>=2.3.2 in /home/hp1/.local/lib/python3.8/site-packages (from tensorflow>=1.9.0->DeepFace) (3.3.0)\n",
      "Requirement already satisfied: wrapt>=1.11.0 in /home/hp1/.local/lib/python3.8/site-packages (from tensorflow>=1.9.0->DeepFace) (1.13.3)\n",
      "Requirement already satisfied: h5py>=2.9.0 in /home/hp1/.local/lib/python3.8/site-packages (from tensorflow>=1.9.0->DeepFace) (3.6.0)\n",
      "Requirement already satisfied: protobuf>=3.9.2 in /home/hp1/.local/lib/python3.8/site-packages (from tensorflow>=1.9.0->DeepFace) (3.19.1)\n",
      "Requirement already satisfied: wheel<1.0,>=0.32.0 in /usr/lib/python3/dist-packages (from tensorflow>=1.9.0->DeepFace) (0.34.2)\n",
      "Requirement already satisfied: gast<0.5.0,>=0.2.1 in /home/hp1/.local/lib/python3.8/site-packages (from tensorflow>=1.9.0->DeepFace) (0.4.0)\n",
      "Requirement already satisfied: absl-py>=0.4.0 in /home/hp1/.local/lib/python3.8/site-packages (from tensorflow>=1.9.0->DeepFace) (1.0.0)\n",
      "Requirement already satisfied: libclang>=9.0.1 in /home/hp1/.local/lib/python3.8/site-packages (from tensorflow>=1.9.0->DeepFace) (12.0.0)\n",
      "Requirement already satisfied: tensorboard~=2.6 in /home/hp1/.local/lib/python3.8/site-packages (from tensorflow>=1.9.0->DeepFace) (2.7.0)\n",
      "Requirement already satisfied: keras-preprocessing>=1.1.1 in /home/hp1/.local/lib/python3.8/site-packages (from tensorflow>=1.9.0->DeepFace) (1.1.2)\n",
      "Requirement already satisfied: zipp>=0.5 in /home/hp1/.local/lib/python3.8/site-packages (from importlib-metadata>=3.6.0->Flask>=1.1.2->DeepFace) (3.6.0)\n",
      "Requirement already satisfied: MarkupSafe>=2.0 in /home/hp1/.local/lib/python3.8/site-packages (from Jinja2>=3.0->Flask>=1.1.2->DeepFace) (2.0.1)\n",
      "Requirement already satisfied: google-auth<3,>=1.6.3 in /home/hp1/.local/lib/python3.8/site-packages (from tensorboard~=2.6->tensorflow>=1.9.0->DeepFace) (2.3.3)\n",
      "Requirement already satisfied: markdown>=2.6.8 in /home/hp1/.local/lib/python3.8/site-packages (from tensorboard~=2.6->tensorflow>=1.9.0->DeepFace) (3.3.6)\n",
      "Requirement already satisfied: google-auth-oauthlib<0.5,>=0.4.1 in /home/hp1/.local/lib/python3.8/site-packages (from tensorboard~=2.6->tensorflow>=1.9.0->DeepFace) (0.4.6)\n",
      "Requirement already satisfied: setuptools>=41.0.0 in /usr/lib/python3/dist-packages (from tensorboard~=2.6->tensorflow>=1.9.0->DeepFace) (45.2.0)\n",
      "Requirement already satisfied: tensorboard-data-server<0.7.0,>=0.6.0 in /home/hp1/.local/lib/python3.8/site-packages (from tensorboard~=2.6->tensorflow>=1.9.0->DeepFace) (0.6.1)\n",
      "Requirement already satisfied: tensorboard-plugin-wit>=1.6.0 in /home/hp1/.local/lib/python3.8/site-packages (from tensorboard~=2.6->tensorflow>=1.9.0->DeepFace) (1.8.0)\n",
      "Requirement already satisfied: soupsieve>1.2 in /home/hp1/.local/lib/python3.8/site-packages (from beautifulsoup4->gdown>=3.10.1->DeepFace) (2.3.2.post1)\n",
      "Requirement already satisfied: PySocks!=1.5.7,>=1.5.6 in /home/hp1/.local/lib/python3.8/site-packages (from requests[socks]->gdown>=3.10.1->DeepFace) (1.7.1)\n",
      "Requirement already satisfied: pyasn1-modules>=0.2.1 in /home/hp1/.local/lib/python3.8/site-packages (from google-auth<3,>=1.6.3->tensorboard~=2.6->tensorflow>=1.9.0->DeepFace) (0.2.8)\n",
      "Requirement already satisfied: cachetools<5.0,>=2.0.0 in /home/hp1/.local/lib/python3.8/site-packages (from google-auth<3,>=1.6.3->tensorboard~=2.6->tensorflow>=1.9.0->DeepFace) (4.2.4)\n",
      "Requirement already satisfied: rsa<5,>=3.1.4 in /usr/lib/python3/dist-packages (from google-auth<3,>=1.6.3->tensorboard~=2.6->tensorflow>=1.9.0->DeepFace) (4.0)\n",
      "Requirement already satisfied: requests-oauthlib>=0.7.0 in /home/hp1/.local/lib/python3.8/site-packages (from google-auth-oauthlib<0.5,>=0.4.1->tensorboard~=2.6->tensorflow>=1.9.0->DeepFace) (1.3.0)\n",
      "Requirement already satisfied: pyasn1<0.5.0,>=0.4.6 in /home/hp1/.local/lib/python3.8/site-packages (from pyasn1-modules>=0.2.1->google-auth<3,>=1.6.3->tensorboard~=2.6->tensorflow>=1.9.0->DeepFace) (0.4.8)\n",
      "Requirement already satisfied: oauthlib>=3.0.0 in /usr/lib/python3/dist-packages (from requests-oauthlib>=0.7.0->google-auth-oauthlib<0.5,>=0.4.1->tensorboard~=2.6->tensorflow>=1.9.0->DeepFace) (3.1.0)\n",
      "\u001b[33mWARNING: You are using pip version 21.3.1; however, version 22.0.4 is available.\n",
      "You should consider upgrading via the '/usr/bin/python -m pip install --upgrade pip' command.\u001b[0m\n",
      "Note: you may need to restart the kernel to use updated packages.\n"
     ]
    }
   ],
   "source": [
    "%pip install DeepFace"
   ]
  },
  {
   "cell_type": "code",
   "execution_count": null,
   "id": "e1a906dd",
   "metadata": {},
   "outputs": [],
   "source": [
    "%pip install pymilvus"
   ]
  },
  {
   "cell_type": "code",
   "execution_count": 8,
   "id": "74bc7fb1",
   "metadata": {},
   "outputs": [],
   "source": [
    "from deepface import DeepFace\n",
    "import os\n",
    "import glob"
   ]
  },
  {
   "cell_type": "code",
   "execution_count": 98,
   "id": "95627bbd",
   "metadata": {},
   "outputs": [],
   "source": [
    "#models = [\"VGG-Face\", \"Facenet\", \"Facenet512\", \"OpenFace\", \"DeepFace\", \"DeepID\", \"ArcFace\", \"Dlib\"]\n",
    "\n",
    "models = [\"Facenet\"]\n",
    "files = glob.glob('./data/*')\n",
    "embed = {}\n",
    "\n",
    "images = {}\n",
    "vectors = {}\n",
    "\n",
    "id_ = 0\n",
    "for image_path in files:\n",
    "    vector = DeepFace.represent(img_path = image_path, model_name = \"Facenet\")\n",
    "    images[id_] = image_path\n",
    "    vectors[id_] = vector\n",
    "    id_ += 1\n",
    "\n",
    "dimension = len(vectors[0]) # Dimension of each record in milvus ; 128 for Facenet\n",
    "m_vectors = list(vectors.values()) # m_ = milvus_\n",
    "m_id = list(range(id_))"
   ]
  },
  {
   "cell_type": "code",
   "execution_count": 99,
   "id": "5d7b75be",
   "metadata": {},
   "outputs": [
    {
     "name": "stdout",
     "output_type": "stream",
     "text": [
      "Total records: 17\n",
      "Dimensions: 128\n"
     ]
    }
   ],
   "source": [
    "print(\"Total records:\", len(m_vectors))\n",
    "print(\"Dimensions:\", dimension)"
   ]
  },
  {
   "cell_type": "markdown",
   "id": "bad83601",
   "metadata": {},
   "source": [
    "# Milvus"
   ]
  },
  {
   "cell_type": "code",
   "execution_count": 12,
   "id": "d2afc493",
   "metadata": {},
   "outputs": [],
   "source": [
    "from pprint import pprint\n",
    "import numpy as np\n",
    "import random\n",
    "\n",
    "from milvus import Milvus, IndexType, MetricType, Status"
   ]
  },
  {
   "cell_type": "code",
   "execution_count": 64,
   "id": "2e21bd82",
   "metadata": {},
   "outputs": [],
   "source": [
    "# Connecting to the host and port\n",
    "\n",
    "host = '127.0.0.1'\n",
    "port = '19530'\n",
    "client = Milvus(host, port)"
   ]
  },
  {
   "cell_type": "code",
   "execution_count": 74,
   "id": "0a29a699",
   "metadata": {},
   "outputs": [
    {
     "data": {
      "text/plain": [
       "(Status(code=0, message='Show collections successfully!'), [])"
      ]
     },
     "execution_count": 74,
     "metadata": {},
     "output_type": "execute_result"
    }
   ],
   "source": [
    "# Lists all the collections in use. Collections is similar to ElasticSearch tables\n",
    "client.list_collections() \n",
    "# Empty list = No collections created so far"
   ]
  },
  {
   "cell_type": "code",
   "execution_count": 75,
   "id": "15ff24aa",
   "metadata": {},
   "outputs": [
    {
     "data": {
      "text/plain": [
       "Status(code=0, message='Create collection successfully!')"
      ]
     },
     "execution_count": 75,
     "metadata": {},
     "output_type": "execute_result"
    }
   ],
   "source": [
    "collection_name = 'embeddings' # Tbale name\n",
    "collection_param = {\n",
    "    \"collection_name\": collection_name,\n",
    "    \"dimension\": dimension,   # Length of the vector in every record\n",
    "    \"index_file_size\": 2048,  # Maximum file size for every record in MBs\n",
    "    \"metric_type\": MetricType.L2 # Metric to compare the distances, could be experimented\n",
    "}\n",
    "\n",
    "client.create_collection(collection_param) # Create new table"
   ]
  },
  {
   "cell_type": "code",
   "execution_count": 76,
   "id": "20a94de1",
   "metadata": {},
   "outputs": [
    {
     "data": {
      "text/plain": [
       "(Status(code=0, message='Show collections successfully!'), ['embeddings'])"
      ]
     },
     "execution_count": 76,
     "metadata": {},
     "output_type": "execute_result"
    }
   ],
   "source": [
    "client.list_collections()"
   ]
  },
  {
   "cell_type": "code",
   "execution_count": null,
   "id": "4f9d419b",
   "metadata": {},
   "outputs": [],
   "source": []
  },
  {
   "cell_type": "markdown",
   "id": "ab79f610",
   "metadata": {},
   "source": [
    "# Adding data to milvus"
   ]
  },
  {
   "cell_type": "code",
   "execution_count": 80,
   "id": "6c6e4f43",
   "metadata": {},
   "outputs": [],
   "source": [
    "status, ids = client.insert(collection_name, m_vectors, m_id) # Added"
   ]
  },
  {
   "cell_type": "code",
   "execution_count": 82,
   "id": "9a4eb9ae",
   "metadata": {},
   "outputs": [
    {
     "data": {
      "text/plain": [
       "Status(code=0, message='Add vectors successfully!')"
      ]
     },
     "execution_count": 82,
     "metadata": {},
     "output_type": "execute_result"
    }
   ],
   "source": [
    "status"
   ]
  },
  {
   "cell_type": "code",
   "execution_count": 81,
   "id": "c6f265f6",
   "metadata": {},
   "outputs": [
    {
     "data": {
      "text/plain": [
       "Status(code=0, message='OK')"
      ]
     },
     "execution_count": 81,
     "metadata": {},
     "output_type": "execute_result"
    }
   ],
   "source": [
    "client.flush([collection_name])"
   ]
  },
  {
   "cell_type": "markdown",
   "id": "ce6fa46e",
   "metadata": {},
   "source": [
    "## Get status"
   ]
  },
  {
   "cell_type": "code",
   "execution_count": 83,
   "id": "1fedcdd9",
   "metadata": {},
   "outputs": [
    {
     "name": "stdout",
     "output_type": "stream",
     "text": [
      "{'partitions': [{'row_count': 17,\n",
      "                 'segments': [{'data_size': 8840,\n",
      "                               'index_name': 'IDMAP',\n",
      "                               'name': '1651230575236370000',\n",
      "                               'row_count': 17}],\n",
      "                 'tag': '_default'}],\n",
      " 'row_count': 17}\n"
     ]
    }
   ],
   "source": [
    "from pprint import pprint\n",
    "status, stats = client.get_collection_stats(collection_name)\n",
    "pprint(stats)"
   ]
  },
  {
   "cell_type": "markdown",
   "id": "53799ad3",
   "metadata": {},
   "source": [
    "# Search"
   ]
  },
  {
   "cell_type": "code",
   "execution_count": 144,
   "id": "69bc8812",
   "metadata": {},
   "outputs": [],
   "source": [
    "target_img = \"targetr.jpeg\" # Address for target image\n",
    "target = DeepFace.represent(target_img, model_name = \"Facenet\") # Generate embeddings for target image"
   ]
  },
  {
   "cell_type": "code",
   "execution_count": 145,
   "id": "f63f1bf6",
   "metadata": {},
   "outputs": [],
   "source": [
    "status, results = client.search(collection_name, 5, [target])\n",
    "# Will return top 5 results, '5' can be replaced\n",
    "# The target vector must always be passed inside a list***"
   ]
  },
  {
   "cell_type": "code",
   "execution_count": 146,
   "id": "0239cc41",
   "metadata": {},
   "outputs": [
    {
     "data": {
      "text/plain": [
       "Status(code=0, message='Search vectors successfully!')"
      ]
     },
     "execution_count": 146,
     "metadata": {},
     "output_type": "execute_result"
    }
   ],
   "source": [
    "status"
   ]
  },
  {
   "cell_type": "code",
   "execution_count": 147,
   "id": "5cec6839",
   "metadata": {},
   "outputs": [
    {
     "data": {
      "text/plain": [
       "[\n",
       "[\n",
       "(id:7, distance:0.0),\n",
       "(id:16, distance:144.6283416748047),\n",
       "(id:13, distance:151.07545471191406),\n",
       "(id:9, distance:163.55194091796875),\n",
       "(id:15, distance:179.15481567382812)\n",
       "]\n",
       "]"
      ]
     },
     "execution_count": 147,
     "metadata": {},
     "output_type": "execute_result"
    }
   ],
   "source": [
    "results # Lower distance = Better match"
   ]
  },
  {
   "cell_type": "code",
   "execution_count": 148,
   "id": "05fa26e9",
   "metadata": {},
   "outputs": [
    {
     "data": {
      "text/plain": [
       "[7, 16, 13, 9, 15]"
      ]
     },
     "execution_count": 148,
     "metadata": {},
     "output_type": "execute_result"
    }
   ],
   "source": [
    "outputs = []\n",
    "for i in range(5):\n",
    "    outputs.append(results[0][i].id)\n",
    "    \n",
    "outputs"
   ]
  },
  {
   "cell_type": "markdown",
   "id": "0ea8b6a5",
   "metadata": {},
   "source": [
    "# Display"
   ]
  },
  {
   "cell_type": "code",
   "execution_count": 151,
   "id": "10690853",
   "metadata": {},
   "outputs": [
    {
     "name": "stdout",
     "output_type": "stream",
     "text": [
      "Target\n"
     ]
    },
    {
     "data": {
      "image/jpeg": "[encoded data removed]",
      "text/plain": [
       "<IPython.core.display.Image object>"
      ]
     },
     "execution_count": 151,
     "metadata": {},
     "output_type": "execute_result"
    }
   ],
   "source": [
    "from IPython.display import Image, display\n",
    "print(\"Target\")\n",
    "Image(filename='targetr.jpeg') "
   ]
  },
  {
   "cell_type": "code",
   "execution_count": 150,
   "id": "4996c716",
   "metadata": {},
   "outputs": [
    {
     "name": "stdout",
     "output_type": "stream",
     "text": [
      "Results\n"
     ]
    },
    {
     "data": {
      "image/jpeg": "[encoded data removed]",
      "text/plain": [
       "<IPython.core.display.Image object>"
      ]
     },
     "metadata": {},
     "output_type": "display_data"
    },
    {
     "data": {
      "image/jpeg": "[encoded data removed]",
      "text/plain": [
       "<IPython.core.display.Image object>"
      ]
     },
     "metadata": {},
     "output_type": "display_data"
    },
    {
     "data": {
      "image/jpeg": "[encoded data removed]",
      "text/plain": [
       "<IPython.core.display.Image object>"
      ]
     },
     "metadata": {},
     "output_type": "display_data"
    },
    {
     "data": {
      "image/jpeg": "[encoded data removed]",
      "text/plain": [
       "<IPython.core.display.Image object>"
      ]
     },
     "metadata": {},
     "output_type": "display_data"
    },
    {
     "data": {
      "image/jpeg": "[encoded data removed]",
      "text/plain": [
       "<IPython.core.display.Image object>"
      ]
     },
     "metadata": {},
     "output_type": "display_data"
    }
   ],
   "source": [
    "print(\"Results\")\n",
    "for output in outputs:\n",
    "    display(Image(filename=images[output]))\n"
   ]
  },
  {
   "cell_type": "code",
   "execution_count": null,
   "id": "8e249f8b",
   "metadata": {},
   "outputs": [],
   "source": []
  }
 ],
 "metadata": {
  "kernelspec": {
   "display_name": "mil",
   "language": "python",
   "name": "mil"
  },
  "language_info": {
   "codemirror_mode": {
    "name": "ipython",
    "version": 3
   },
   "file_extension": ".py",
   "mimetype": "text/x-python",
   "name": "python",
   "nbconvert_exporter": "python",
   "pygments_lexer": "ipython3",
   "version": "3.8.10"
  }
 },
 "nbformat": 4,
 "nbformat_minor": 5
}
